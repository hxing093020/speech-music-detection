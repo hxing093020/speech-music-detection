{
 "cells": [
  {
   "cell_type": "markdown",
   "metadata": {},
   "source": [
    "# Test label processing"
   ]
  },
  {
   "cell_type": "code",
   "execution_count": 3,
   "metadata": {},
   "outputs": [],
   "source": [
    "import sys\n",
    "sys.path.append('..')\n",
    "import smd.data.preprocessing as preprocessing\n",
    "\n",
    "AUDIO_FILE_PATH = \"/Users/quentin/Computer/DataSet/Music/speech_music_detection/gtzan/music_wav/redhot.wav\""
   ]
  },
  {
   "cell_type": "code",
   "execution_count": 4,
   "metadata": {
    "scrolled": true
   },
   "outputs": [
    {
     "name": "stdout",
     "output_type": "stream",
     "text": [
      "[[0 0 0 0 0 0 0 0 0 0]\n",
      " [1 1 1 1 1 1 1 1 1 1]]\n",
      "[[1 1 1 1 1 1 1 1 1 1]\n",
      " [0 0 0 0 0 0 0 0 0 0]]\n",
      "[[0 0 0 0 0 0 0 0 0 0]\n",
      " [0 0 0 0 0 0 0 0 0 0]]\n"
     ]
    }
   ],
   "source": [
    "print(preprocessing.get_label(\"music\", 10))\n",
    "print(preprocessing.get_label(\"speech\", 10))\n",
    "print(preprocessing.get_label(\"noise\", 10))"
   ]
  },
  {
   "cell_type": "code",
   "execution_count": 9,
   "metadata": {},
   "outputs": [
    {
     "name": "stdout",
     "output_type": "stream",
     "text": [
      "Assert correct.\n"
     ]
    }
   ],
   "source": [
    "a = data.preprocessing.get_label(\"mixed\", 420, filename=\"example_annotation.txt\")\n",
    "x = a[0]\n",
    "\n",
    "b = data.preprocessing.get_annotation(a)\n",
    "data.preprocessing.save_annotation(b, \"example_annotation_processed.txt\", \".\")\n",
    "a = data.preprocessing.get_label(\"mixed\", 420, filename=\"example_annotation_processed.txt\")\n",
    "y = a[0]\n",
    "\n",
    "assert (x == y).all()\n",
    "print(\"Assert correct.\")"
   ]
  },
  {
   "cell_type": "code",
   "execution_count": null,
   "metadata": {},
   "outputs": [],
   "source": []
  }
 ],
 "metadata": {
  "kernelspec": {
   "display_name": "Python 3",
   "language": "python",
   "name": "python3"
  },
  "language_info": {
   "codemirror_mode": {
    "name": "ipython",
    "version": 3
   },
   "file_extension": ".py",
   "mimetype": "text/x-python",
   "name": "python",
   "nbconvert_exporter": "python",
   "pygments_lexer": "ipython3",
   "version": "3.6.4"
  }
 },
 "nbformat": 4,
 "nbformat_minor": 2
}
